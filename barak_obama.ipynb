{
 "cells": [
  {
   "cell_type": "code",
   "execution_count": 1,
   "metadata": {},
   "outputs": [],
   "source": [
    "import numpy as np\n",
    "import sys\n",
    "from keras.models import load_model\n",
    "from sklearn.metrics import confusion_matrix\n",
    "from sklearn.metrics import classification_report"
   ]
  },
  {
   "cell_type": "code",
   "execution_count": 2,
   "metadata": {},
   "outputs": [],
   "source": [
    "model = load_model('ANN_86.h5')"
   ]
  },
  {
   "cell_type": "code",
   "execution_count": 3,
   "metadata": {},
   "outputs": [],
   "source": [
    "# import data (i'm assuming you have this already)\n",
    "training = np.loadtxt(\"train-io.txt\")\n",
    "testing = np.loadtxt(\"test-in.txt\")"
   ]
  },
  {
   "cell_type": "code",
   "execution_count": 4,
   "metadata": {},
   "outputs": [],
   "source": [
    "# split data into variables and class \n",
    "x = training[:200000,0:12]\n",
    "xval = training[200000:,0:12]\n",
    "y = training[:200000,12]\n",
    "yval = training[200000:,12]"
   ]
  },
  {
   "cell_type": "code",
   "execution_count": 5,
   "metadata": {},
   "outputs": [
    {
     "name": "stdout",
     "output_type": "stream",
     "text": [
      "Model: \"sequential_8\"\n",
      "_________________________________________________________________\n",
      "Layer (type)                 Output Shape              Param #   \n",
      "=================================================================\n",
      "dense_47 (Dense)             (None, 48)                624       \n",
      "_________________________________________________________________\n",
      "dense_48 (Dense)             (None, 30)                1470      \n",
      "_________________________________________________________________\n",
      "dense_49 (Dense)             (None, 26)                806       \n",
      "_________________________________________________________________\n",
      "dense_50 (Dense)             (None, 12)                324       \n",
      "_________________________________________________________________\n",
      "dense_51 (Dense)             (None, 1)                 13        \n",
      "=================================================================\n",
      "Total params: 3,237\n",
      "Trainable params: 3,237\n",
      "Non-trainable params: 0\n",
      "_________________________________________________________________\n"
     ]
    }
   ],
   "source": [
    "model.summary()"
   ]
  },
  {
   "cell_type": "code",
   "execution_count": 6,
   "metadata": {},
   "outputs": [],
   "source": [
    "## make class predictions with the model and print to text file\n",
    "game_time = (model.predict(testing) > 0.5).astype(\"int32\")\n",
    "## nrow = testing.shape[0]\n",
    "## sys.stdout = open(\"test-out.txt\", \"w\")\n",
    "## for i in range(nrow):\n",
    "##    print(predictions[i])\n",
    "## sys.stdout.close()\n",
    "##"
   ]
  },
  {
   "cell_type": "code",
   "execution_count": 7,
   "metadata": {},
   "outputs": [
    {
     "name": "stdout",
     "output_type": "stream",
     "text": [
      "3125/3125 [==============================] - 2s 799us/step - loss: 0.3147 - accuracy: 0.8628\n",
      "accuracy: 86.28%\n"
     ]
    }
   ],
   "source": [
    "## evaluate model on training validation data\n",
    "score = model.evaluate(xval, yval)\n",
    "print(\"%s: %.2f%%\" % (model.metrics_names[1], score[1]*100))"
   ]
  },
  {
   "cell_type": "code",
   "execution_count": 8,
   "metadata": {},
   "outputs": [
    {
     "data": {
      "text/plain": [
       "array([[38549,  7705],\n",
       "       [ 6014, 47732]])"
      ]
     },
     "execution_count": 8,
     "metadata": {},
     "output_type": "execute_result"
    }
   ],
   "source": [
    "## make predictions on training data\n",
    "predictions = (model.predict(xval) > 0.5).astype(\"int32\")\n",
    "confusion_matrix(yval,predictions)"
   ]
  },
  {
   "cell_type": "code",
   "execution_count": 9,
   "metadata": {},
   "outputs": [
    {
     "name": "stdout",
     "output_type": "stream",
     "text": [
      "              precision    recall  f1-score   support\n",
      "\n",
      "           0       0.87      0.83      0.85     46254\n",
      "           1       0.86      0.89      0.87     53746\n",
      "\n",
      "    accuracy                           0.86    100000\n",
      "   macro avg       0.86      0.86      0.86    100000\n",
      "weighted avg       0.86      0.86      0.86    100000\n",
      "\n"
     ]
    }
   ],
   "source": [
    "## construct confusion matrix for traiinng validation data\n",
    "target_names = ['0','1']\n",
    "print(classification_report(yval, predictions, target_names=target_names))"
   ]
  },
  {
   "cell_type": "code",
   "execution_count": 10,
   "metadata": {},
   "outputs": [
    {
     "name": "stdout",
     "output_type": "stream",
     "text": [
      "0 [4464]\n",
      "1 [5536]\n"
     ]
    }
   ],
   "source": [
    "print('0', sum(game_time == 0))\n",
    "print('1', sum(game_time == 1))"
   ]
  },
  {
   "cell_type": "code",
   "execution_count": null,
   "metadata": {},
   "outputs": [],
   "source": []
  }
 ],
 "metadata": {
  "kernelspec": {
   "display_name": "Python 3",
   "language": "python",
   "name": "python3"
  },
  "language_info": {
   "codemirror_mode": {
    "name": "ipython",
    "version": 3
   },
   "file_extension": ".py",
   "mimetype": "text/x-python",
   "name": "python",
   "nbconvert_exporter": "python",
   "pygments_lexer": "ipython3",
   "version": "3.7.6"
  }
 },
 "nbformat": 4,
 "nbformat_minor": 4
}
