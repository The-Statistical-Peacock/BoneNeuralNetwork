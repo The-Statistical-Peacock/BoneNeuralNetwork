{
 "cells": [
  {
   "cell_type": "code",
   "execution_count": 1,
   "metadata": {},
   "outputs": [],
   "source": [
    "import numpy as np\n",
    "import tensorflow as tf\n",
    "from keras.models import Sequential\n",
    "from keras.layers import Dense\n",
    "from sklearn.metrics import confusion_matrix\n",
    "from sklearn.metrics import classification_report"
   ]
  },
  {
   "cell_type": "code",
   "execution_count": 2,
   "metadata": {},
   "outputs": [],
   "source": [
    "# import data (i'm assuming you have this already)\n",
    "training = np.loadtxt(\"train-io.txt\")\n",
    "testing = np.loadtxt(\"test-in.txt\")"
   ]
  },
  {
   "cell_type": "code",
   "execution_count": 3,
   "metadata": {},
   "outputs": [],
   "source": [
    "# split data into variables and class \n",
    "x = training[:200000,0:12]\n",
    "xval = training[200000:,0:12]\n",
    "y = training[:200000,12]\n",
    "yval = training[200000:,12]"
   ]
  },
  {
   "cell_type": "code",
   "execution_count": 34,
   "metadata": {},
   "outputs": [
    {
     "data": {
      "text/plain": [
       "<tensorflow.python.keras.optimizer_v2.adam.Adam at 0x7f1bab7e8610>"
      ]
     },
     "execution_count": 34,
     "metadata": {},
     "output_type": "execute_result"
    }
   ],
   "source": [
    "## tweak adam optimizer learning rate\n",
    "tf.keras.optimizers.Adam(\n",
    "    learning_rate=0.001,\n",
    "    beta_1=0.9,\n",
    "    beta_2=0.999,\n",
    "    epsilon=1e-07,\n",
    "    amsgrad=False,\n",
    "    name=\"Adam\"\n",
    ")"
   ]
  },
  {
   "cell_type": "code",
   "execution_count": 54,
   "metadata": {},
   "outputs": [],
   "source": [
    "# define and build the keras model\n",
    "model = Sequential()\n",
    "model.add(Dense(48, input_dim=12, activation='relu'))\n",
    "model.add(Dense(30, activation='relu'))\n",
    "model.add(Dense(26, activation='relu'))\n",
    "model.add(Dense(12, activation='relu'))\n",
    "model.add(Dense(1, activation='sigmoid'))\n"
   ]
  },
  {
   "cell_type": "code",
   "execution_count": 55,
   "metadata": {},
   "outputs": [],
   "source": [
    "# compile the keras model\n",
    "model.compile(loss='binary_crossentropy', optimizer='Adam', metrics=['accuracy'])"
   ]
  },
  {
   "cell_type": "code",
   "execution_count": null,
   "metadata": {},
   "outputs": [
    {
     "name": "stdout",
     "output_type": "stream",
     "text": [
      "Epoch 1/50\n",
      "20000/20000 [==============================] - 27s 1ms/step - loss: 0.6775 - accuracy: 0.5712\n",
      "Epoch 2/50\n",
      "20000/20000 [==============================] - 21s 1ms/step - loss: 0.6583 - accuracy: 0.6070\n",
      "Epoch 3/50\n",
      "20000/20000 [==============================] - 22s 1ms/step - loss: 0.6384 - accuracy: 0.6327\n",
      "Epoch 4/50\n",
      "20000/20000 [==============================] - 20s 1ms/step - loss: 0.5950 - accuracy: 0.6793\n",
      "Epoch 5/50\n",
      "20000/20000 [==============================] - 21s 1ms/step - loss: 0.5606 - accuracy: 0.7096\n",
      "Epoch 6/50\n",
      "20000/20000 [==============================] - 23s 1ms/step - loss: 0.5412 - accuracy: 0.7259\n",
      "Epoch 7/50\n",
      "20000/20000 [==============================] - 20s 1ms/step - loss: 0.5235 - accuracy: 0.7414\n",
      "Epoch 8/50\n",
      "20000/20000 [==============================] - 20s 1ms/step - loss: 0.5095 - accuracy: 0.7519\n",
      "Epoch 9/50\n",
      "20000/20000 [==============================] - 23s 1ms/step - loss: 0.4895 - accuracy: 0.7618\n",
      "Epoch 10/50\n",
      "20000/20000 [==============================] - 21s 1ms/step - loss: 0.4556 - accuracy: 0.7808\n",
      "Epoch 11/50\n",
      "20000/20000 [==============================] - 22s 1ms/step - loss: 0.4416 - accuracy: 0.7895\n",
      "Epoch 12/50\n",
      "20000/20000 [==============================] - 24s 1ms/step - loss: 0.4302 - accuracy: 0.7956\n",
      "Epoch 13/50\n",
      "20000/20000 [==============================] - 21s 1ms/step - loss: 0.4199 - accuracy: 0.8023\n",
      "Epoch 14/50\n",
      "20000/20000 [==============================] - 20s 996us/step - loss: 0.4124 - accuracy: 0.8065\n",
      "Epoch 15/50\n",
      "20000/20000 [==============================] - 23s 1ms/step - loss: 0.4048 - accuracy: 0.8113\n",
      "Epoch 16/50\n",
      "20000/20000 [==============================] - 25s 1ms/step - loss: 0.3957 - accuracy: 0.8162\n",
      "Epoch 17/50\n",
      "20000/20000 [==============================] - 21s 1ms/step - loss: 0.3916 - accuracy: 0.8181\n",
      "Epoch 18/50\n",
      " 2691/20000 [===>..........................] - ETA: 17s - loss: 0.3933 - accuracy: 0.8168"
     ]
    }
   ],
   "source": [
    "# fit the keras model on the dataset\n",
    "model.fit(x, y, epochs=50, batch_size=10)"
   ]
  },
  {
   "cell_type": "code",
   "execution_count": 41,
   "metadata": {},
   "outputs": [
    {
     "name": "stdout",
     "output_type": "stream",
     "text": [
      "3125/3125 [==============================] - 3s 850us/step - loss: 0.3147 - accuracy: 0.8628\n",
      "accuracy: 86.28%\n"
     ]
    }
   ],
   "source": [
    "# evaluate the model\n",
    "scores = model.evaluate(xval, yval)\n",
    "print(\"%s: %.2f%%\" % (model.metrics_names[1], scores[1]*100))"
   ]
  },
  {
   "cell_type": "code",
   "execution_count": 42,
   "metadata": {},
   "outputs": [
    {
     "name": "stdout",
     "output_type": "stream",
     "text": [
      "(predicted 1) => (actual 1)\n",
      "(predicted 0) => (actual 1)\n",
      "(predicted 0) => (actual 0)\n",
      "(predicted 1) => (actual 1)\n",
      "(predicted 1) => (actual 1)\n",
      "(predicted 0) => (actual 0)\n"
     ]
    }
   ],
   "source": [
    "# make class predictions with the model\n",
    "predictions = (model.predict(xval) > 0.5).astype(\"int32\")\n",
    "# show the first 6 cases and predictions\n",
    "for i in range(6):\n",
    "\tprint('(predicted %d) => (actual %d)' % ( predictions[i], yval[i]))"
   ]
  },
  {
   "cell_type": "code",
   "execution_count": 43,
   "metadata": {},
   "outputs": [
    {
     "name": "stdout",
     "output_type": "stream",
     "text": [
      "Saved model to disk\n"
     ]
    }
   ],
   "source": [
    "# save model and architecture to single file\n",
    "model.save(\"ANN_86.h5\")\n",
    "print(\"Saved model to disk\")"
   ]
  },
  {
   "cell_type": "code",
   "execution_count": 44,
   "metadata": {},
   "outputs": [
    {
     "data": {
      "text/plain": [
       "array([[38549,  7705],\n",
       "       [ 6014, 47732]])"
      ]
     },
     "execution_count": 44,
     "metadata": {},
     "output_type": "execute_result"
    }
   ],
   "source": [
    "confusion_matrix(yval,predictions)"
   ]
  },
  {
   "cell_type": "code",
   "execution_count": 45,
   "metadata": {},
   "outputs": [
    {
     "name": "stdout",
     "output_type": "stream",
     "text": [
      "              precision    recall  f1-score   support\n",
      "\n",
      "           0       0.87      0.83      0.85     46254\n",
      "           1       0.86      0.89      0.87     53746\n",
      "\n",
      "    accuracy                           0.86    100000\n",
      "   macro avg       0.86      0.86      0.86    100000\n",
      "weighted avg       0.86      0.86      0.86    100000\n",
      "\n"
     ]
    }
   ],
   "source": [
    "target_names = ['0','1']\n",
    "print(classification_report(yval, predictions, target_names=target_names))"
   ]
  },
  {
   "cell_type": "code",
   "execution_count": 46,
   "metadata": {},
   "outputs": [],
   "source": [
    "game_time = (model.predict(testing) > 0.5).astype(\"int32\")"
   ]
  },
  {
   "cell_type": "code",
   "execution_count": 47,
   "metadata": {},
   "outputs": [
    {
     "name": "stdout",
     "output_type": "stream",
     "text": [
      "0 [4464]\n",
      "1 [5536]\n"
     ]
    }
   ],
   "source": [
    "print('0', sum(game_time == 0))\n",
    "print('1', sum(game_time == 1))"
   ]
  },
  {
   "cell_type": "code",
   "execution_count": null,
   "metadata": {},
   "outputs": [],
   "source": []
  }
 ],
 "metadata": {
  "kernelspec": {
   "display_name": "Python 3",
   "language": "python",
   "name": "python3"
  },
  "language_info": {
   "codemirror_mode": {
    "name": "ipython",
    "version": 3
   },
   "file_extension": ".py",
   "mimetype": "text/x-python",
   "name": "python",
   "nbconvert_exporter": "python",
   "pygments_lexer": "ipython3",
   "version": "3.7.6"
  }
 },
 "nbformat": 4,
 "nbformat_minor": 4
}
