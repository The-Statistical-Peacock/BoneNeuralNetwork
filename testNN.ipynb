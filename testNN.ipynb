{
 "cells": [
  {
   "cell_type": "code",
   "execution_count": 1,
   "metadata": {},
   "outputs": [],
   "source": [
    "import numpy as np\n",
    "import tensorflow as tf\n",
    "from keras.models import Sequential\n",
    "from keras.layers import Dense\n",
    "from sklearn.metrics import confusion_matrix\n",
    "from sklearn.metrics import classification_report"
   ]
  },
  {
   "cell_type": "code",
   "execution_count": 2,
   "metadata": {},
   "outputs": [],
   "source": [
    "# import data \n",
    "training = np.loadtxt(\"train-io.txt\")\n",
    "testing = np.loadtxt(\"test-in.txt\")"
   ]
  },
  {
   "cell_type": "code",
   "execution_count": 3,
   "metadata": {},
   "outputs": [],
   "source": [
    "# split data into variables and class \n",
    "x = training[:200000,0:12]\n",
    "xval = training[200000:,0:12]\n",
    "y = training[:200000,12]\n",
    "yval = training[200000:,12]"
   ]
  },
  {
   "cell_type": "code",
   "execution_count": 4,
   "metadata": {},
   "outputs": [
    {
     "data": {
      "text/plain": [
       "<tensorflow.python.keras.optimizer_v2.adam.Adam at 0x7f1cdb1f4950>"
      ]
     },
     "execution_count": 4,
     "metadata": {},
     "output_type": "execute_result"
    }
   ],
   "source": [
    "## tweak adam optimizer learning rate or other metrics\n",
    "tf.keras.optimizers.Adam(\n",
    "    learning_rate=0.001,\n",
    "    beta_1=0.9,\n",
    "    beta_2=0.999,\n",
    "    epsilon=1e-07,\n",
    "    amsgrad=False,\n",
    "    name=\"Adam\"\n",
    ")"
   ]
  },
  {
   "cell_type": "code",
   "execution_count": 5,
   "metadata": {},
   "outputs": [],
   "source": [
    "# define and build the keras model\n",
    "model = Sequential()\n",
    "model.add(Dense(48, input_dim=12, activation='relu'))\n",
    "model.add(Dense(30, activation='relu'))\n",
    "model.add(Dense(26, activation='relu'))\n",
    "model.add(Dense(12, activation='relu'))\n",
    "model.add(Dense(1, activation='sigmoid'))\n"
   ]
  },
  {
   "cell_type": "code",
   "execution_count": 6,
   "metadata": {},
   "outputs": [],
   "source": [
    "# compile the keras model\n",
    "model.compile(loss='binary_crossentropy', optimizer='Adam', metrics=['accuracy'])"
   ]
  },
  {
   "cell_type": "code",
   "execution_count": 7,
   "metadata": {},
   "outputs": [
    {
     "name": "stdout",
     "output_type": "stream",
     "text": [
      "Epoch 1/50\n",
      "20000/20000 [==============================] - 24s 1ms/step - loss: 0.6816 - accuracy: 0.5612\n",
      "Epoch 2/50\n",
      "20000/20000 [==============================] - 24s 1ms/step - loss: 0.6655 - accuracy: 0.5955\n",
      "Epoch 3/50\n",
      "20000/20000 [==============================] - 24s 1ms/step - loss: 0.6462 - accuracy: 0.6240\n",
      "Epoch 4/50\n",
      "20000/20000 [==============================] - 24s 1ms/step - loss: 0.6178 - accuracy: 0.6585\n",
      "Epoch 5/50\n",
      "20000/20000 [==============================] - 24s 1ms/step - loss: 0.5907 - accuracy: 0.6796\n",
      "Epoch 6/50\n",
      "20000/20000 [==============================] - 24s 1ms/step - loss: 0.5742 - accuracy: 0.6922\n",
      "Epoch 7/50\n",
      "20000/20000 [==============================] - 24s 1ms/step - loss: 0.5628 - accuracy: 0.7016\n",
      "Epoch 8/50\n",
      "20000/20000 [==============================] - 25s 1ms/step - loss: 0.5535 - accuracy: 0.7083\n",
      "Epoch 9/50\n",
      "20000/20000 [==============================] - 25s 1ms/step - loss: 0.5416 - accuracy: 0.7200\n",
      "Epoch 10/50\n",
      "20000/20000 [==============================] - 24s 1ms/step - loss: 0.5294 - accuracy: 0.7309\n",
      "Epoch 11/50\n",
      "20000/20000 [==============================] - 24s 1ms/step - loss: 0.5158 - accuracy: 0.7420\n",
      "Epoch 12/50\n",
      "20000/20000 [==============================] - 24s 1ms/step - loss: 0.4977 - accuracy: 0.7569\n",
      "Epoch 13/50\n",
      "20000/20000 [==============================] - 24s 1ms/step - loss: 0.4708 - accuracy: 0.7775\n",
      "Epoch 14/50\n",
      "20000/20000 [==============================] - 25s 1ms/step - loss: 0.4483 - accuracy: 0.7914\n",
      "Epoch 15/50\n",
      "20000/20000 [==============================] - 25s 1ms/step - loss: 0.4350 - accuracy: 0.7992\n",
      "Epoch 16/50\n",
      "20000/20000 [==============================] - 25s 1ms/step - loss: 0.4232 - accuracy: 0.8051\n",
      "Epoch 17/50\n",
      "20000/20000 [==============================] - 25s 1ms/step - loss: 0.4170 - accuracy: 0.8091\n",
      "Epoch 18/50\n",
      "20000/20000 [==============================] - 25s 1ms/step - loss: 0.4111 - accuracy: 0.8120\n",
      "Epoch 19/50\n",
      "20000/20000 [==============================] - 25s 1ms/step - loss: 0.4076 - accuracy: 0.8143\n",
      "Epoch 20/50\n",
      "20000/20000 [==============================] - 25s 1ms/step - loss: 0.4023 - accuracy: 0.8175\n",
      "Epoch 21/50\n",
      "20000/20000 [==============================] - 26s 1ms/step - loss: 0.3971 - accuracy: 0.8201\n",
      "Epoch 22/50\n",
      "20000/20000 [==============================] - 24s 1ms/step - loss: 0.3923 - accuracy: 0.8232\n",
      "Epoch 23/50\n",
      "20000/20000 [==============================] - 25s 1ms/step - loss: 0.3886 - accuracy: 0.8254\n",
      "Epoch 24/50\n",
      "20000/20000 [==============================] - 24s 1ms/step - loss: 0.3815 - accuracy: 0.8295\n",
      "Epoch 25/50\n",
      "20000/20000 [==============================] - 25s 1ms/step - loss: 0.3736 - accuracy: 0.8323\n",
      "Epoch 26/50\n",
      "20000/20000 [==============================] - 25s 1ms/step - loss: 0.3674 - accuracy: 0.8359\n",
      "Epoch 27/50\n",
      "20000/20000 [==============================] - 25s 1ms/step - loss: 0.3631 - accuracy: 0.8373\n",
      "Epoch 28/50\n",
      "20000/20000 [==============================] - 25s 1ms/step - loss: 0.3599 - accuracy: 0.8392\n",
      "Epoch 29/50\n",
      "20000/20000 [==============================] - 25s 1ms/step - loss: 0.3565 - accuracy: 0.8416\n",
      "Epoch 30/50\n",
      "20000/20000 [==============================] - 25s 1ms/step - loss: 0.3533 - accuracy: 0.8434\n",
      "Epoch 31/50\n",
      "20000/20000 [==============================] - 25s 1ms/step - loss: 0.3515 - accuracy: 0.8437\n",
      "Epoch 32/50\n",
      "20000/20000 [==============================] - 25s 1ms/step - loss: 0.3489 - accuracy: 0.8457\n",
      "Epoch 33/50\n",
      "20000/20000 [==============================] - 25s 1ms/step - loss: 0.3470 - accuracy: 0.8463\n",
      "Epoch 34/50\n",
      "20000/20000 [==============================] - 26s 1ms/step - loss: 0.3463 - accuracy: 0.8469\n",
      "Epoch 35/50\n",
      "20000/20000 [==============================] - 26s 1ms/step - loss: 0.3439 - accuracy: 0.8470\n",
      "Epoch 36/50\n",
      "20000/20000 [==============================] - 25s 1ms/step - loss: 0.3419 - accuracy: 0.8493\n",
      "Epoch 37/50\n",
      "20000/20000 [==============================] - 26s 1ms/step - loss: 0.3379 - accuracy: 0.8513\n",
      "Epoch 38/50\n",
      "20000/20000 [==============================] - 26s 1ms/step - loss: 0.3340 - accuracy: 0.8528\n",
      "Epoch 39/50\n",
      "20000/20000 [==============================] - 26s 1ms/step - loss: 0.3300 - accuracy: 0.8541\n",
      "Epoch 40/50\n",
      "20000/20000 [==============================] - 26s 1ms/step - loss: 0.3263 - accuracy: 0.8559\n",
      "Epoch 41/50\n",
      "20000/20000 [==============================] - 26s 1ms/step - loss: 0.3225 - accuracy: 0.8575\n",
      "Epoch 42/50\n",
      "20000/20000 [==============================] - 26s 1ms/step - loss: 0.3188 - accuracy: 0.8585\n",
      "Epoch 43/50\n",
      "20000/20000 [==============================] - 27s 1ms/step - loss: 0.3163 - accuracy: 0.8597\n",
      "Epoch 44/50\n",
      "20000/20000 [==============================] - 27s 1ms/step - loss: 0.3131 - accuracy: 0.8612\n",
      "Epoch 45/50\n",
      "20000/20000 [==============================] - 26s 1ms/step - loss: 0.3109 - accuracy: 0.8617\n",
      "Epoch 46/50\n",
      "20000/20000 [==============================] - 27s 1ms/step - loss: 0.3088 - accuracy: 0.8629\n",
      "Epoch 47/50\n",
      "20000/20000 [==============================] - 27s 1ms/step - loss: 0.3054 - accuracy: 0.8645\n",
      "Epoch 48/50\n",
      "20000/20000 [==============================] - 26s 1ms/step - loss: 0.3033 - accuracy: 0.8655\n",
      "Epoch 49/50\n",
      "20000/20000 [==============================] - 27s 1ms/step - loss: 0.3012 - accuracy: 0.8667\n",
      "Epoch 50/50\n",
      "20000/20000 [==============================] - 26s 1ms/step - loss: 0.3003 - accuracy: 0.8678\n"
     ]
    },
    {
     "data": {
      "text/plain": [
       "<tensorflow.python.keras.callbacks.History at 0x7f1cd8880550>"
      ]
     },
     "execution_count": 7,
     "metadata": {},
     "output_type": "execute_result"
    }
   ],
   "source": [
    "# fit the keras model on the dataset\n",
    "model.fit(x, y, epochs=50, batch_size=10)"
   ]
  },
  {
   "cell_type": "code",
   "execution_count": 8,
   "metadata": {},
   "outputs": [
    {
     "name": "stdout",
     "output_type": "stream",
     "text": [
      "3125/3125 [==============================] - 3s 851us/step - loss: 0.3051 - accuracy: 0.8638\n",
      "accuracy: 86.38%\n"
     ]
    }
   ],
   "source": [
    "# evaluate the model on validation data\n",
    "scores = model.evaluate(xval, yval)\n",
    "print(\"%s: %.2f%%\" % (model.metrics_names[1], scores[1]*100))"
   ]
  },
  {
   "cell_type": "code",
   "execution_count": 9,
   "metadata": {},
   "outputs": [
    {
     "name": "stdout",
     "output_type": "stream",
     "text": [
      "(predicted 1) => (actual 1)\n",
      "(predicted 1) => (actual 1)\n",
      "(predicted 0) => (actual 0)\n",
      "(predicted 1) => (actual 1)\n",
      "(predicted 1) => (actual 1)\n",
      "(predicted 0) => (actual 0)\n"
     ]
    }
   ],
   "source": [
    "# make class predictions with the model\n",
    "predictions = (model.predict(xval) > 0.5).astype(\"int32\")\n",
    "# show the first 6 cases and predictions\n",
    "for i in range(6):\n",
    "\tprint('(predicted %d) => (actual %d)' % ( predictions[i], yval[i]))"
   ]
  },
  {
   "cell_type": "code",
   "execution_count": 10,
   "metadata": {},
   "outputs": [
    {
     "name": "stdout",
     "output_type": "stream",
     "text": [
      "Saved model to disk\n"
     ]
    }
   ],
   "source": [
    "# save model and architecture to single file\n",
    "model.save(\"ANN_86.h5\")\n",
    "print(\"Saved model to disk\")"
   ]
  },
  {
   "cell_type": "code",
   "execution_count": 11,
   "metadata": {},
   "outputs": [
    {
     "data": {
      "text/plain": [
       "array([[42022,  4232],\n",
       "       [ 9387, 44359]])"
      ]
     },
     "execution_count": 11,
     "metadata": {},
     "output_type": "execute_result"
    }
   ],
   "source": [
    "confusion_matrix(yval,predictions)"
   ]
  },
  {
   "cell_type": "code",
   "execution_count": 12,
   "metadata": {},
   "outputs": [
    {
     "name": "stdout",
     "output_type": "stream",
     "text": [
      "              precision    recall  f1-score   support\n",
      "\n",
      "           0       0.82      0.91      0.86     46254\n",
      "           1       0.91      0.83      0.87     53746\n",
      "\n",
      "    accuracy                           0.86    100000\n",
      "   macro avg       0.87      0.87      0.86    100000\n",
      "weighted avg       0.87      0.86      0.86    100000\n",
      "\n"
     ]
    }
   ],
   "source": [
    "# get precision and recall values from validation data\n",
    "target_names = ['0','1']\n",
    "print(classification_report(yval, predictions, target_names=target_names))"
   ]
  },
  {
   "cell_type": "code",
   "execution_count": 13,
   "metadata": {},
   "outputs": [],
   "source": [
    "## make predictions on test data \n",
    "game_time = (model.predict(testing) > 0.5).astype(\"int32\")"
   ]
  },
  {
   "cell_type": "code",
   "execution_count": 14,
   "metadata": {},
   "outputs": [
    {
     "name": "stdout",
     "output_type": "stream",
     "text": [
      "0 [5191]\n",
      "1 [4809]\n"
     ]
    }
   ],
   "source": [
    "## show number of class 1's and 0's predicted\n",
    "print('0', sum(game_time == 0))\n",
    "print('1', sum(game_time == 1))"
   ]
  }
 ],
 "metadata": {
  "kernelspec": {
   "display_name": "Python 3",
   "language": "python",
   "name": "python3"
  },
  "language_info": {
   "codemirror_mode": {
    "name": "ipython",
    "version": 3
   },
   "file_extension": ".py",
   "mimetype": "text/x-python",
   "name": "python",
   "nbconvert_exporter": "python",
   "pygments_lexer": "ipython3",
   "version": "3.7.6"
  }
 },
 "nbformat": 4,
 "nbformat_minor": 4
}
